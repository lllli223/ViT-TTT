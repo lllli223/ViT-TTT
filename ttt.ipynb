{
 "cells": [
  {
   "cell_type": "code",
   "execution_count": 1,
   "metadata": {},
   "outputs": [],
   "source": [
    "from ttt import TTTMLP, TTTConfig"
   ]
  },
  {
   "cell_type": "code",
   "execution_count": 2,
   "metadata": {},
   "outputs": [
    {
     "name": "stdout",
     "output_type": "stream",
     "text": [
      "torch.Size([2, 1000])\n"
     ]
    }
   ],
   "source": [
    "import torch\n",
    "import torch.nn as nn\n",
    "import torch.nn.functional as F\n",
    "\n",
    "from ttt import TTTConfig\n",
    "\n",
    "class PatchEmbedding(nn.Module):\n",
    "    def __init__(self, in_channels, patch_size, emb_size, img_size):\n",
    "        super(PatchEmbedding, self).__init__()\n",
    "        self.patch_size = patch_size\n",
    "        self.projection = nn.Conv2d(in_channels, emb_size, kernel_size=patch_size, stride=patch_size)\n",
    "        self.cls_token = nn.Parameter(torch.randn(1, 1, emb_size))\n",
    "        self.positions = nn.Parameter(torch.randn((img_size // patch_size) ** 2 + 1, emb_size))\n",
    "\n",
    "    def forward(self, x):\n",
    "        B, C, H, W = x.shape\n",
    "        x = self.projection(x)  # [B, emb_size, H/P, W/P]\n",
    "        x = x.flatten(2)  # [B, emb_size, N]\n",
    "        x = x.transpose(1, 2)  # [B, N, emb_size]\n",
    "        cls_tokens = self.cls_token.expand(B, -1, -1)  # [B, 1, emb_size]\n",
    "        x = torch.cat((cls_tokens, x), dim=1)  # [B, N+1, emb_size]\n",
    "        x = x + self.positions  # [B, N+1, emb_size]\n",
    "        return x\n",
    "\n",
    "class MultiHeadSelfAttention(nn.Module):\n",
    "    def __init__(self, emb_size, num_heads):\n",
    "        super(MultiHeadSelfAttention, self).__init__()\n",
    "        self.emb_size = emb_size\n",
    "        self.num_heads = num_heads\n",
    "        self.qkv = nn.Linear(emb_size, emb_size * 3)\n",
    "        self.projection = nn.Linear(emb_size, emb_size)\n",
    "\n",
    "    def forward(self, x):\n",
    "        B, N, _ = x.shape\n",
    "        qkv = self.qkv(x).reshape(B, N, 3, self.num_heads, self.emb_size // self.num_heads)\n",
    "        q, k, v = qkv.permute(2, 0, 3, 1, 4)\n",
    "        qk = (q @ k.transpose(-2, -1)) * (self.emb_size ** -0.5)\n",
    "        attn = qk.softmax(dim=-1)\n",
    "        out = (attn @ v).transpose(1, 2).reshape(B, N, self.emb_size)\n",
    "        return self.projection(out)\n",
    "\n",
    "\n",
    "class TransformerEncoderLayer(nn.Module):\n",
    "    def __init__(self, emb_size, num_heads, ttt_config, dropout, layer_idx):\n",
    "        super(TransformerEncoderLayer, self).__init__()\n",
    "        self.norm1 = nn.LayerNorm(emb_size)\n",
    "        self.attn = MultiHeadSelfAttention(emb_size, num_heads)\n",
    "        self.norm2 = nn.LayerNorm(emb_size)\n",
    "        self.tttmlp = TTTMLP(ttt_config, layer_idx=layer_idx)\n",
    "        self.dropout = nn.Dropout(dropout)\n",
    "\n",
    "    def forward(self, x):\n",
    "        x = x + self.dropout(self.attn(self.norm1(x)))\n",
    "        x = x + self.dropout(self.tttmlp(self.norm2(x), position_ids=torch.arange(x.shape[1]).unsqueeze(0).repeat(x.shape[0], 1).to(x.device)))\n",
    "        return x\n",
    "\n",
    "\n",
    "class ViT(nn.Module):\n",
    "    def __init__(self, img_size, patch_size, in_channels, num_classes, emb_size, depth, num_heads, ttt_config, dropout):\n",
    "        super(ViT, self).__init__()\n",
    "        self.patch_embed = PatchEmbedding(in_channels, patch_size, emb_size, img_size)\n",
    "        self.transformer = nn.Sequential(*[\n",
    "            TransformerEncoderLayer(emb_size, num_heads, ttt_config, dropout, layer_idx=idx) for idx in range(depth)\n",
    "        ])\n",
    "        self.norm = nn.LayerNorm(emb_size)\n",
    "        self.fc = nn.Linear(emb_size, num_classes)\n",
    "\n",
    "    def forward(self, x):\n",
    "        x = self.patch_embed(x)\n",
    "        x = self.transformer(x)\n",
    "        x = self.norm(x[:, 0])\n",
    "        x = self.fc(x)\n",
    "        return x\n",
    "\n",
    "    \n",
    "\n",
    "# Parameters\n",
    "in_channels = 3\n",
    "num_classes = 1000\n",
    "emb_size = 768\n",
    "num_heads = 6\n",
    "num_layers = 6\n",
    "patch_size = 16\n",
    "img_size = 224\n",
    "ff_hidden_size = 3072\n",
    "dropout = 0.1\n",
    "mini_batch_size = 4\n",
    "batch_size = 2\n",
    "dropout = 0.1\n",
    "ttt_config = TTTConfig(hidden_size=768)\n",
    "\n",
    "# Create the model\n",
    "model = ViT(img_size=img_size, patch_size=patch_size, in_channels=in_channels, num_classes=num_classes, emb_size=emb_size, depth=num_layers, num_heads=num_heads, ttt_config=ttt_config, dropout=dropout).cuda()\n",
    "\n",
    "\n",
    "# Example forward pass\n",
    "dummy_input = torch.randn(batch_size, 3, 224, 224).cuda()\n",
    "output = model(dummy_input)\n",
    "print(output.shape)  # Should be [1, 10]\n"
   ]
  },
  {
   "cell_type": "code",
   "execution_count": 3,
   "metadata": {},
   "outputs": [],
   "source": [
    "total_size = sum(p.numel() * p.element_size() for p in model.parameters())"
   ]
  },
  {
   "cell_type": "code",
   "execution_count": 4,
   "metadata": {},
   "outputs": [
    {
     "data": {
      "text/plain": [
       "123.74224"
      ]
     },
     "execution_count": 4,
     "metadata": {},
     "output_type": "execute_result"
    }
   ],
   "source": [
    "total_size * 1e-6"
   ]
  },
  {
   "cell_type": "code",
   "execution_count": 36,
   "metadata": {},
   "outputs": [],
   "source": [
    "tttconfig = TTTConfig()"
   ]
  },
  {
   "cell_type": "code",
   "execution_count": 37,
   "metadata": {},
   "outputs": [
    {
     "name": "stderr",
     "output_type": "stream",
     "text": [
      "Instantiating TTTMLP without passing a `layer_idx` is not recommended and will lead to errors during the forward call if caching is used. Please make sure to provide a `layer_idx` when creating this class.\n"
     ]
    }
   ],
   "source": [
    "ttt_mlp = TTTMLP(tttconfig)"
   ]
  },
  {
   "cell_type": "code",
   "execution_count": null,
   "metadata": {},
   "outputs": [],
   "source": []
  }
 ],
 "metadata": {
  "kernelspec": {
   "display_name": "torch-env",
   "language": "python",
   "name": "python3"
  },
  "language_info": {
   "codemirror_mode": {
    "name": "ipython",
    "version": 3
   },
   "file_extension": ".py",
   "mimetype": "text/x-python",
   "name": "python",
   "nbconvert_exporter": "python",
   "pygments_lexer": "ipython3",
   "version": "3.10.14"
  }
 },
 "nbformat": 4,
 "nbformat_minor": 2
}
